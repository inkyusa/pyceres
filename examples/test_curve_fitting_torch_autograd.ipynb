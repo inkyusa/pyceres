{
 "cells": [
  {
   "cell_type": "markdown",
   "metadata": {},
   "source": [
    "### Curve Fitting using torch autograd and pyceres\n",
    "\n",
    "The problem we want to solve is\n",
    "\\[\n",
    "y = e^{mx + c}\n",
    "\\]\n",
    "\n",
    "where \\( m \\) and \\( c \\) are the parameters we need to estimate. Given a set of observed data points \\((x_i, y_i)\\), the goal is to find the values of \\( m \\) and \\( c \\) that minimize the sum of squared residuals:\n",
    "\n",
    "\\[\n",
    "\\text{Residual} = y_i - e^{mx_i + c}\n",
    "\\]\n",
    "\n",
    "This is example is obtained from http://ceres-solver.org/nnls_tutorial.html#curve-fitting"
   ]
  },
  {
   "cell_type": "code",
   "execution_count": 1,
   "metadata": {},
   "outputs": [],
   "source": [
    "import numpy as np\n",
    "import torch\n",
    "import pyceres\n",
    "import matplotlib.pyplot as plt\n",
    "import matplotlib.animation as animation"
   ]
  },
  {
   "cell_type": "code",
   "execution_count": 2,
   "metadata": {},
   "outputs": [],
   "source": [
    "class ExpCostFunction(pyceres.CostFunction):\n",
    "    def __init__(self, x, y):\n",
    "        pyceres.CostFunction.__init__(self)\n",
    "        self.set_num_residuals(1)\n",
    "        self.set_parameter_block_sizes([1, 1])\n",
    "        self.x = x\n",
    "        self.y = y\n",
    "\n",
    "    def Evaluate(self, parameters, residuals, jacobians):\n",
    "        device = torch.device(\"cuda\" if torch.cuda.is_available() else \"cpu\")\n",
    "\n",
    "        m = torch.tensor(parameters[0], dtype=torch.float64, requires_grad=True, device=device)\n",
    "        c = torch.tensor(parameters[1], dtype=torch.float64, requires_grad=True, device=device)\n",
    "        x = torch.tensor(self.x, dtype=torch.float64, device=device)\n",
    "        y = torch.tensor(self.y, dtype=torch.float64, device=device)\n",
    "\n",
    "        residuals_tensor = y - torch.exp(m * x + c)\n",
    "\n",
    "        if residuals is not None:\n",
    "            residuals[0] = residuals_tensor.item()\n",
    "\n",
    "        if jacobians is not None:\n",
    "            grad_m, grad_c = torch.autograd.grad(\n",
    "                residuals_tensor, [m, c], retain_graph=True, create_graph=True\n",
    "            )\n",
    "            if jacobians[0] is not None:\n",
    "                jacobians[0][0] = grad_m.item()\n",
    "            if jacobians[1] is not None:\n",
    "                jacobians[1][0] = grad_c.item()\n",
    "\n",
    "        return True"
   ]
  },
  {
   "cell_type": "code",
   "execution_count": 3,
   "metadata": {},
   "outputs": [],
   "source": [
    "def simulate_data():\n",
    "    np.random.seed(23497)\n",
    "    m = 0.3\n",
    "    c = 0.1\n",
    "    x = np.arange(0, 5.075, 0.075)\n",
    "    y = np.exp(m * x + c)\n",
    "    noise = np.random.randn(len(x)) * 0.2\n",
    "    y_observed = y + noise\n",
    "    return x, y_observed"
   ]
  },
  {
   "cell_type": "code",
   "execution_count": 4,
   "metadata": {},
   "outputs": [],
   "source": [
    "# No binding implemented for GetParameterBlocks so that it is difficult\n",
    "# to have access params while optimising. Just place holder\n",
    "\n",
    "class IterationCallback(pyceres.IterationCallback):\n",
    "    def __init__(self, m_vals, c_vals, problem, m, c):\n",
    "        super().__init__()\n",
    "        self.m_vals = m_vals\n",
    "        self.c_vals = c_vals\n",
    "        self.problem = problem\n",
    "        self.m = m\n",
    "        self.c = c\n",
    "\n",
    "    def __call__(self, summary):\n",
    "        print(\"=\" * 40)\n",
    "        print(f\"Iteration callback: m = {self.m[0]}, c = {self.c[0]}\")  # Debug print\n",
    "        self.m_vals.append(self.m[0].copy()) \n",
    "        self.c_vals.append(self.c[0].copy()) \n",
    "        return pyceres.CallbackReturnType.SOLVER_CONTINUE"
   ]
  },
  {
   "cell_type": "code",
   "execution_count": 5,
   "metadata": {},
   "outputs": [],
   "source": [
    "def test_python_cost():\n",
    "    x_data, y_measured_data = simulate_data()\n",
    "    initial_m = 0.0\n",
    "    initial_c = 0.0\n",
    "    m = np.array([initial_m])\n",
    "    c = np.array([initial_c])\n",
    "\n",
    "    prob = pyceres.Problem()\n",
    "    #iterate over x, y and add cost to residual block\n",
    "    for x, y in zip(x_data, y_measured_data):\n",
    "        cost = ExpCostFunction(x, y)\n",
    "        prob.add_residual_block(cost, None, [m, c])\n",
    "\n",
    "    options = pyceres.SolverOptions()\n",
    "    options.max_num_iterations = 50\n",
    "    options.minimizer_progress_to_stdout = True\n",
    "    summary = pyceres.SolverSummary()\n",
    "\n",
    "    # m_steps = []\n",
    "    # c_steps = []\n",
    "    # No binding implemented for ceres::GetParameterBlocks so that it is difficult\n",
    "    # to have access params while optimising.\n",
    "    # Create and add the custom callback\n",
    "    #callback = IterationCallback(m_steps, c_steps, prob, m, c)\n",
    "    #options.callbacks = [callback]\n",
    "    pyceres.solve(options, prob, summary)\n",
    "\n",
    "    print(summary.FullReport())\n",
    "    print(f\"Initial m: {initial_m} c: {initial_c}\")\n",
    "    print(f\"Final m: {m[0]} c: {c[0]}\")\n",
    "\n",
    "    return x_data, y_measured_data, m[0], c[0]"
   ]
  },
  {
   "cell_type": "code",
   "execution_count": 6,
   "metadata": {},
   "outputs": [
    {
     "name": "stdout",
     "output_type": "stream",
     "text": [
      "CPU times: user 9 μs, sys: 6 μs, total: 15 μs\n",
      "Wall time: 27.2 μs\n",
      "iter      cost      cost_change  |gradient|   |step|    tr_ratio  tr_radius  ls_iter  iter_time  total_time\n",
      "   0  1.314863e+02    0.00e+00    3.84e+02   0.00e+00   0.00e+00  1.00e+04        0    3.37e-02    3.82e-02\n",
      "   1  3.163027e+03   -3.03e+03    3.84e+02   0.00e+00  -2.36e+01  5.00e+03        1    7.03e-03    4.52e-02\n",
      "   2  3.158121e+03   -3.03e+03    3.84e+02   0.00e+00  -2.35e+01  1.25e+03        1    5.59e-03    5.08e-02\n",
      "   3  3.128964e+03   -3.00e+03    3.84e+02   0.00e+00  -2.33e+01  1.56e+02        1    5.86e-03    5.67e-02\n",
      "   4  2.877726e+03   -2.75e+03    3.84e+02   0.00e+00  -2.14e+01  9.77e+00        1    5.74e-03    6.25e-02\n",
      "   5  1.091404e+03   -9.60e+02    3.84e+02   0.00e+00  -7.64e+00  3.05e-01        1    5.04e-03    6.76e-02\n",
      "   6  3.612502e+01    9.54e+01    4.45e+02   0.00e+00   1.39e+00  9.16e-01        1    1.64e-02    8.40e-02\n",
      "   7  7.725139e+00    2.84e+01    1.99e+02   1.27e-01   1.11e+00  2.75e+00        1    1.83e-02    1.02e-01\n",
      "   8  4.222638e+00    3.50e+00    6.30e+01   3.37e-02   1.03e+00  8.24e+00        1    1.84e-02    1.21e-01\n",
      "   9  2.514862e+00    1.71e+00    2.76e+01   9.76e-02   9.92e-01  2.47e+01        1    1.83e-02    1.39e-01\n",
      "  10  1.513970e+00    1.00e+00    9.90e+00   1.17e-01   9.87e-01  7.42e+01        1    1.81e-02    1.57e-01\n",
      "  11  1.313753e+00    2.00e-01    1.77e+00   6.95e-02   9.95e-01  2.22e+02        1    1.85e-02    1.76e-01\n",
      "  12  1.304333e+00    9.42e-03    1.48e-01   1.77e-02   1.00e+00  6.67e+02        1    1.75e-02    1.93e-01\n",
      "  13  1.304263e+00    6.99e-05    4.89e-03   1.62e-03   1.00e+00  2.00e+03        1    1.84e-02    2.12e-01\n",
      "\n",
      "Solver Summary (v 2.2.0-eigen-(3.4.0)-lapack-suitesparse-(7.3.1)-metis-(5.1.0)-acceleratesparse-eigensparse)\n",
      "\n",
      "                                     Original                  Reduced\n",
      "Parameter blocks                            2                        2\n",
      "Parameters                                  2                        2\n",
      "Residual blocks                            68                       68\n",
      "Residuals                                  68                       68\n",
      "\n",
      "Minimizer                        TRUST_REGION\n",
      "Trust region strategy     LEVENBERG_MARQUARDT\n",
      "Sparse linear algebra library    SUITE_SPARSE \n",
      "\n",
      "                                        Given                     Used\n",
      "Linear solver          SPARSE_NORMAL_CHOLESKY   SPARSE_NORMAL_CHOLESKY\n",
      "Threads                                     1                        1\n",
      "Linear solver ordering              AUTOMATIC                        2\n",
      "\n",
      "Cost:\n",
      "Initial                          1.314863e+02\n",
      "Final                            1.304263e+00\n",
      "Change                           1.301821e+02\n",
      "\n",
      "Minimizer iterations                       14\n",
      "Successful steps                            9\n",
      "Unsuccessful steps                          5\n",
      "\n",
      "Time (in seconds):\n",
      "Preprocessor                         0.004473\n",
      "\n",
      "  Residual only evaluation           0.080079 (14)\n",
      "  Jacobian & residual evaluation     0.132386 (9)\n",
      "  Linear solver                      0.000402 (14)\n",
      "Minimizer                            0.213410\n",
      "\n",
      "Postprocessor                        0.000015\n",
      "Total                                0.217898\n",
      "\n",
      "Termination:                      CONVERGENCE (Function tolerance reached. |cost_change|/cost: 4.856760e-08 <= 1.000000e-06)\n",
      "\n",
      "Initial m: 0.0 c: 0.0\n",
      "Final m: 0.30253393921830546 c: 0.09612068150677514\n"
     ]
    }
   ],
   "source": [
    "%time\n",
    "x_data, y_measured_data, m_esti, c_esti = test_python_cost()"
   ]
  },
  {
   "cell_type": "markdown",
   "metadata": {},
   "source": [
    "### Visualisation"
   ]
  },
  {
   "cell_type": "code",
   "execution_count": 7,
   "metadata": {},
   "outputs": [
    {
     "data": {
      "image/png": "[encoded data removed]",
      "text/plain": [
       "<Figure size 640x480 with 1 Axes>"
      ]
     },
     "metadata": {},
     "output_type": "display_data"
    }
   ],
   "source": [
    "# Create the ground truth curve\n",
    "x_ground_truth = np.linspace(0, 5, 400)\n",
    "y_ground_truth = np.exp(0.3 * x_ground_truth + 0.1)\n",
    "\n",
    "# Create the estimated curve\n",
    "y_estimated = np.exp(m_esti * x_ground_truth + c_esti)\n",
    "\n",
    "# Create the figure and axis\n",
    "fig, ax = plt.subplots()\n",
    "ax.scatter(x_data, y_measured_data, label='Noisy Data', color='black')\n",
    "line_true, = ax.plot(x_ground_truth, y_ground_truth, label='Ground Truth', color='blue')\n",
    "line_est, = ax.plot(x_ground_truth, y_estimated, label='Estimated', color='red')\n",
    "\n",
    "ax.set_xlabel('x')\n",
    "ax.set_ylabel('y')\n",
    "ax.legend()\n",
    "\n",
    "plt.show()"
   ]
  }
 ],
 "metadata": {
  "kernelspec": {
   "display_name": "conda_ceres_p310",
   "language": "python",
   "name": "python3"
  },
  "language_info": {
   "codemirror_mode": {
    "name": "ipython",
    "version": 3
   },
   "file_extension": ".py",
   "mimetype": "text/x-python",
   "name": "python",
   "nbconvert_exporter": "python",
   "pygments_lexer": "ipython3",
   "version": "3.10.14"
  }
 },
 "nbformat": 4,
 "nbformat_minor": 2
}
